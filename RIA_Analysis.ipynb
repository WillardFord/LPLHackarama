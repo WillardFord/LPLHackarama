{
 "cells": [
  {
   "attachments": {},
   "cell_type": "markdown",
   "metadata": {},
   "source": [
    "# Advisor Transaction Synthesis\n",
    "\n",
    "By importing Indicator Name and Value data from the Investment Data Atlas, we can synthesise RIA Transaction Data by randomly adding a specific RIA to each transaction. Then by aggregating the data we can predict which RIA's are better suited to each sector.\n",
    "\n",
    "\n",
    "\n",
    "Table used: INVESTMENT_DATA_ATLAS.INVESTMENT.\"IMFCDIS2017\" from Snowflake Data Atlas"
   ]
  },
  {
   "attachments": {},
   "cell_type": "markdown",
   "metadata": {},
   "source": [
    "## Data Synthesis"
   ]
  },
  {
   "cell_type": "code",
   "execution_count": 163,
   "metadata": {},
   "outputs": [],
   "source": [
    "import pandas as pd\n",
    "import numpy as np\n",
    "from random import choices\n",
    "import statistics"
   ]
  },
  {
   "cell_type": "code",
   "execution_count": 164,
   "metadata": {},
   "outputs": [],
   "source": [
    "# Read in the Data Frame\n",
    "\n",
    "df = pd.read_csv(\"BD and RIA Firm_Rep Data (Sample) - Examples.csv\")\n",
    "# df.head(n=30)"
   ]
  },
  {
   "cell_type": "code",
   "execution_count": 165,
   "metadata": {},
   "outputs": [],
   "source": [
    "# Remove Outward and Inward after adding in negative values\n",
    "\n",
    "Investment_Positions = pd.unique(df['Indicator Name'])\n",
    "\n",
    "for i, row in df.iterrows():\n",
    "    df.loc[i, 'Indicator Name'] = df.loc[i, 'Indicator Name'] \\\n",
    "            .replace(', Derived','')\n",
    "    if \"Outward\" in row['Indicator Name']:\n",
    "        df.loc[i, 'Value'] = -1*(df.loc[i, 'Value'])\n",
    "        df.loc[i, 'Indicator Name'] = df.loc[i, 'Indicator Name'] \\\n",
    "            .replace('Outward','')\n",
    "    else:\n",
    "        df.loc[i, 'Indicator Name'] = df.loc[i, 'Indicator Name'] \\\n",
    "            .replace('Inward','')"
   ]
  },
  {
   "cell_type": "code",
   "execution_count": null,
   "metadata": {},
   "outputs": [],
   "source": []
  },
  {
   "attachments": {},
   "cell_type": "markdown",
   "metadata": {},
   "source": [
    "## Analysis"
   ]
  },
  {
   "cell_type": "code",
   "execution_count": 166,
   "metadata": {},
   "outputs": [
    {
     "name": "stdout",
     "output_type": "stream",
     "text": [
      "Indicator Name\n",
      " Debt Instruments Assets Positions (Gross)                                           0.713492\n",
      " Debt Instruments Liabilities Positions (Gross)                                      0.460979\n",
      " Debt Instruments Positions (Net)                                                    0.470804\n",
      " Debt Positions (Net): Resident Enterprises that are not Financial Intermediaries    0.473061\n",
      " Debt Positions (Net): Resident Financial Intermediaries                             0.435573\n",
      " Direct Investment Assets Positions (Gross) with Fellow Enterprises                  0.824144\n",
      " Direct Investment Liabilities Positions (Gross) with Fellow Enterprises             0.569223\n",
      " Direct Investment Positions                                                         0.534609\n",
      " Direct Investment Positions (Net) with Fellow Enterprises                           0.437161\n",
      " Equity Positions (Net)                                                              0.536850\n",
      "Name: Value, dtype: float64\n",
      "Mean Improvement over average investor:  0.5381708685049913\n"
     ]
    }
   ],
   "source": [
    "# Randomly assign a sample RIA with equal probability to each transaction\n",
    "improvements = []\n",
    "for i in range(0,100):\n",
    "    RIA_assignment = choices(range(1,100) ,k=len(df))\n",
    "    df['RIA'] = RIA_assignment\n",
    "\n",
    "    # Analysis\n",
    "    df2 = df.groupby(['RIA', 'Indicator Name'])['Value'].sum()\n",
    "\n",
    "    #mins = df2.groupby(['Indicator Name']).min()\n",
    "    maxs = df2.groupby(['Indicator Name']).max()\n",
    "    means = df2.groupby(['Indicator Name']).mean()\n",
    "    normalized = (maxs-(maxs+means)/2)/maxs\n",
    "    improvements.append(normalized.mean())\n",
    "print(normalized)\n",
    "print(\"Mean Improvement over average investor: \", statistics.mean(improvements))"
   ]
  },
  {
   "attachments": {},
   "cell_type": "markdown",
   "metadata": {},
   "source": [
    "From these values we can clearly see that the very best investors generate a lot more value than the average investor. Most advisors are probably better than the average investor, but there is likely also a large difference between advisors' portfolios that we cannot observe without more data."
   ]
  }
 ],
 "metadata": {
  "kernelspec": {
   "display_name": "Python 3",
   "language": "python",
   "name": "python3"
  },
  "language_info": {
   "codemirror_mode": {
    "name": "ipython",
    "version": 3
   },
   "file_extension": ".py",
   "mimetype": "text/x-python",
   "name": "python",
   "nbconvert_exporter": "python",
   "pygments_lexer": "ipython3",
   "version": "3.9.6"
  },
  "orig_nbformat": 4,
  "vscode": {
   "interpreter": {
    "hash": "31f2aee4e71d21fbe5cf8b01ff0e069b9275f58929596ceb00d14d90e3e16cd6"
   }
  }
 },
 "nbformat": 4,
 "nbformat_minor": 2
}
